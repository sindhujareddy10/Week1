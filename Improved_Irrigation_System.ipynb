{
 "cells": [
  {
   "cell_type": "markdown",
   "id": "765b1aea",
   "metadata": {},
   "source": [
    "# 🌾 Smart Irrigation System: Sensor-Based Parcel Classification"
   ]
  },
  {
   "cell_type": "markdown",
   "id": "4dfcb631",
   "metadata": {},
   "source": [
    "### 📌 Step 1: Import Libraries"
   ]
  },
  {
   "cell_type": "code",
   "execution_count": null,
   "id": "97539f04",
   "metadata": {},
   "outputs": [],
   "source": [
    "import pandas as pd\n",
    "import numpy as np\n",
    "import matplotlib.pyplot as plt\n",
    "import seaborn as sns\n",
    "from sklearn.model_selection import train_test_split\n",
    "from sklearn.preprocessing import StandardScaler\n",
    "from sklearn.ensemble import RandomForestClassifier\n",
    "from sklearn.metrics import accuracy_score, confusion_matrix, classification_report\n"
   ]
  },
  {
   "cell_type": "markdown",
   "id": "374c6dbc",
   "metadata": {},
   "source": [
    "### 📥 Step 2: Load and Inspect the Dataset"
   ]
  },
  {
   "cell_type": "code",
   "execution_count": null,
   "id": "c19af366",
   "metadata": {},
   "outputs": [],
   "source": [
    "# Load dataset\n",
    "df = pd.read_csv(\"irrigation_machine.csv\")\n",
    "\n",
    "# Drop unnecessary index column\n",
    "df.drop(columns=[\"Unnamed: 0\"], inplace=True)\n",
    "\n",
    "# Show top 5 rows\n",
    "df.head()\n"
   ]
  },
  {
   "cell_type": "markdown",
   "id": "bb3e59c8",
   "metadata": {},
   "source": [
    "### 📊 Step 3: Data Overview"
   ]
  },
  {
   "cell_type": "code",
   "execution_count": null,
   "id": "546d0279",
   "metadata": {},
   "outputs": [],
   "source": [
    "# Data information\n",
    "df.info()\n"
   ]
  },
  {
   "cell_type": "code",
   "execution_count": null,
   "id": "66ed123c",
   "metadata": {},
   "outputs": [],
   "source": [
    "# Statistical summary\n",
    "df.describe()\n"
   ]
  },
  {
   "cell_type": "markdown",
   "id": "2c4317aa",
   "metadata": {},
   "source": [
    "### 🔍 Step 4: Exploratory Data Analysis"
   ]
  },
  {
   "cell_type": "code",
   "execution_count": null,
   "id": "3e25cf3d",
   "metadata": {},
   "outputs": [],
   "source": [
    "# Plot histogram of all sensors\n",
    "df.iloc[:, :20].hist(figsize=(15, 10), bins=20)\n",
    "plt.suptitle(\"Sensor Value Distributions\", fontsize=16)\n",
    "plt.tight_layout()\n",
    "plt.show()\n"
   ]
  },
  {
   "cell_type": "code",
   "execution_count": null,
   "id": "91a143d7",
   "metadata": {},
   "outputs": [],
   "source": [
    "# Correlation heatmap\n",
    "plt.figure(figsize=(14, 10))\n",
    "sns.heatmap(df.iloc[:, :20].corr(), annot=False, cmap='coolwarm')\n",
    "plt.title(\"Sensor Correlation Heatmap\")\n",
    "plt.show()\n"
   ]
  },
  {
   "cell_type": "markdown",
   "id": "1c249156",
   "metadata": {},
   "source": [
    "### 🧠 Step 5: Prepare Data for Modeling"
   ]
  },
  {
   "cell_type": "code",
   "execution_count": null,
   "id": "78d43c5c",
   "metadata": {},
   "outputs": [],
   "source": [
    "X = df.iloc[:, :20]\n",
    "y = df[[\"parcel_0\", \"parcel_1\", \"parcel_2\"]]  # Multi-output target\n",
    "\n",
    "# Scale the features\n",
    "scaler = StandardScaler()\n",
    "X_scaled = scaler.fit_transform(X)\n",
    "\n",
    "# Train-test split\n",
    "X_train, X_test, y_train, y_test = train_test_split(X_scaled, y, test_size=0.2, random_state=42)\n"
   ]
  },
  {
   "cell_type": "markdown",
   "id": "9e534511",
   "metadata": {},
   "source": [
    "### 🤖 Step 6: Train the Model"
   ]
  },
  {
   "cell_type": "code",
   "execution_count": null,
   "id": "506c7337",
   "metadata": {},
   "outputs": [],
   "source": [
    "# Use RandomForestClassifier for multi-output classification\n",
    "model = RandomForestClassifier(random_state=42)\n",
    "model.fit(X_train, y_train)\n"
   ]
  },
  {
   "cell_type": "markdown",
   "id": "fc675d29",
   "metadata": {},
   "source": [
    "### ✅ Step 7: Evaluate the Model"
   ]
  },
  {
   "cell_type": "code",
   "execution_count": null,
   "id": "b43eea70",
   "metadata": {},
   "outputs": [],
   "source": [
    "y_pred = model.predict(X_test)\n",
    "\n",
    "# Show accuracy for each parcel\n",
    "print(\"Parcel-wise Accuracy:\")\n",
    "for i, parcel in enumerate([\"parcel_0\", \"parcel_1\", \"parcel_2\"]):\n",
    "    print(f\"{parcel}: {accuracy_score(y_test.iloc[:, i], y_pred[:, i]):.2f}\")\n"
   ]
  },
  {
   "cell_type": "code",
   "execution_count": null,
   "id": "182921f2",
   "metadata": {},
   "outputs": [],
   "source": [
    "# Show classification report for each parcel\n",
    "for i, parcel in enumerate([\"parcel_0\", \"parcel_1\", \"parcel_2\"]):\n",
    "    print(f\"\\nClassification Report for {parcel}:\")\n",
    "    print(classification_report(y_test.iloc[:, i], y_pred[:, i]))\n"
   ]
  },
  {
   "cell_type": "markdown",
   "id": "62ae5eb2",
   "metadata": {},
   "source": [
    "### 📌 Step 8: Feature Importance"
   ]
  },
  {
   "cell_type": "code",
   "execution_count": null,
   "id": "badffe4e",
   "metadata": {},
   "outputs": [],
   "source": [
    "importances = model.feature_importances_\n",
    "feature_names = df.columns[:20]\n",
    "plt.figure(figsize=(12, 6))\n",
    "sns.barplot(x=importances, y=feature_names)\n",
    "plt.title(\"Feature Importances from Random Forest\")\n",
    "plt.xlabel(\"Importance\")\n",
    "plt.ylabel(\"Sensor\")\n",
    "plt.show()\n"
   ]
  },
  {
   "cell_type": "markdown",
   "id": "29d261ed",
   "metadata": {},
   "source": [
    "### ✅ Summary:\n",
    "- The model uses sensor values to predict the irrigation parcel.\n",
    "- Random Forest performed well on all 3 target labels.\n",
    "- Feature importance shows which sensors impact predictions the most."
   ]
  }
 ],
 "metadata": {},
 "nbformat": 4,
 "nbformat_minor": 5
}
